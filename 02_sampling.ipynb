{
 "cells": [
  {
   "cell_type": "code",
   "execution_count": 13,
   "metadata": {},
   "outputs": [],
   "source": [
    "import numpy as np\n",
    "import pandas as pd\n",
    "\n",
    "import seaborn as sns\n",
    "import matplotlib.pyplot as plt\n",
    "from sklearn.metrics import confusion_matrix\n",
    "from data import DataFrame\n",
    "from utils import open_csv_file\n",
    "from mlxtend.plotting import plot_confusion_matrix\n",
    "\n",
    "import sklearn\n",
    "from sklearn.metrics import accuracy_score\n",
    "from sklearn.preprocessing import StandardScaler, LabelEncoder, MinMaxScaler\n",
    "from sklearn.model_selection import train_test_split, GridSearchCV, cross_val_score\n",
    "\n",
    "from sklearn.metrics import f1_score, recall_score, precision_score\n",
    "from sklearn.metrics import roc_auc_score\n",
    "from sklearn.metrics import accuracy_score\n",
    "\n",
    "from sklearn.ensemble import RandomForestClassifier\n",
    "\n",
    "import warnings\n",
    "warnings.filterwarnings('ignore')"
   ]
  },
  {
   "cell_type": "code",
   "execution_count": 14,
   "metadata": {},
   "outputs": [],
   "source": [
    "training_data = open_csv_file('data_sample_one.csv')\n",
    "x = DataFrame(training_data)\n",
    "training_data_y = open_csv_file('data.csv')\n"
   ]
  },
  {
   "cell_type": "code",
   "execution_count": 15,
   "metadata": {},
   "outputs": [],
   "source": [
    "x.remove_columns(['age', 'time'])\n",
    "X = x.get_df()[['time_bucket', 'ejection_fraction', 'serum_creatinine']]\n",
    "y = DataFrame(training_data_y).get_df()['DEATH_EVENT']\n",
    "result = pd.concat([X, y], axis=1)\n",
    "\n"
   ]
  },
  {
   "cell_type": "code",
   "execution_count": 16,
   "metadata": {},
   "outputs": [],
   "source": [
    "X_train, X_test, y_train, y_test = train_test_split(X, y, test_size=0.2, random_state=0)"
   ]
  },
  {
   "cell_type": "markdown",
   "metadata": {},
   "source": [
    "nromal data"
   ]
  },
  {
   "cell_type": "code",
   "execution_count": null,
   "metadata": {},
   "outputs": [],
   "source": []
  },
  {
   "cell_type": "code",
   "execution_count": 17,
   "metadata": {},
   "outputs": [],
   "source": [
    "new_testing_data = pd.concat([X_test, y_test], axis=1)\n",
    "new_testing_data.to_csv('v2_testing_data.csv', index=False)"
   ]
  },
  {
   "cell_type": "code",
   "execution_count": 18,
   "metadata": {},
   "outputs": [],
   "source": [
    "new_training_data = pd.concat([X_train, y_train], axis=1)\n",
    "new_training_data.to_csv('v2_training_data.csv', index=False)"
   ]
  },
  {
   "cell_type": "markdown",
   "metadata": {},
   "source": [
    "sampling data\n"
   ]
  },
  {
   "cell_type": "code",
   "execution_count": 19,
   "metadata": {},
   "outputs": [],
   "source": [
    "from sklearn.utils import resample\n",
    "df_majority = new_training_data[(new_training_data['DEATH_EVENT'] == 1)]\n",
    "df_minority = new_training_data[(new_training_data['DEATH_EVENT'] == 0)]\n",
    "majority_count = df_majority['DEATH_EVENT'].value_counts().astype(int)\n",
    "\n",
    "majority_count_value = majority_count.values[0]\n",
    "df_minority_upsampled = resample(df_minority, replace=True, n_samples=majority_count_value, random_state=42)\n",
    "df_upsampled = pd.concat([df_minority_upsampled, df_majority])\n",
    "death = df_upsampled['DEATH_EVENT']"
   ]
  },
  {
   "cell_type": "code",
   "execution_count": 20,
   "metadata": {},
   "outputs": [],
   "source": [
    "df_upsampled.to_csv('v2_training_sampling_data.csv', index=False)"
   ]
  },
  {
   "cell_type": "markdown",
   "metadata": {},
   "source": [
    "SMOTE "
   ]
  },
  {
   "cell_type": "code",
   "execution_count": 21,
   "metadata": {},
   "outputs": [
    {
     "name": "stdout",
     "output_type": "stream",
     "text": [
      "Defaulting to user installation because normal site-packages is not writeable\n",
      "Requirement already satisfied: imbalanced-learn in /Users/james/Library/Python/3.9/lib/python/site-packages (0.12.0)\n",
      "Requirement already satisfied: scikit-learn>=1.0.2 in /Users/james/Library/Python/3.9/lib/python/site-packages (from imbalanced-learn) (1.4.0)\n",
      "Requirement already satisfied: scipy>=1.5.0 in /Users/james/Library/Python/3.9/lib/python/site-packages (from imbalanced-learn) (1.12.0)\n",
      "Requirement already satisfied: threadpoolctl>=2.0.0 in /Users/james/Library/Python/3.9/lib/python/site-packages (from imbalanced-learn) (3.2.0)\n",
      "Requirement already satisfied: joblib>=1.1.1 in /Users/james/Library/Python/3.9/lib/python/site-packages (from imbalanced-learn) (1.3.2)\n",
      "Requirement already satisfied: numpy>=1.17.3 in /Users/james/Library/Python/3.9/lib/python/site-packages (from imbalanced-learn) (1.26.3)\n",
      "\u001b[33mWARNING: You are using pip version 21.2.4; however, version 24.0 is available.\n",
      "You should consider upgrading via the '/Applications/Xcode.app/Contents/Developer/usr/bin/python3 -m pip install --upgrade pip' command.\u001b[0m\n",
      "Note: you may need to restart the kernel to use updated packages.\n"
     ]
    }
   ],
   "source": [
    "pip install imbalanced-learn\n"
   ]
  },
  {
   "cell_type": "code",
   "execution_count": 22,
   "metadata": {},
   "outputs": [],
   "source": [
    "from imblearn.over_sampling import SMOTE\n",
    "\n",
    "sm = SMOTE(sampling_strategy=\"minority\", random_state=42)\n",
    "oversampled_X, oversampled_Y = sm.fit_resample(new_testing_data.drop('DEATH_EVENT', axis=1), new_testing_data['DEATH_EVENT'])\n",
    "df_upsampled_v2 = pd.concat([pd.DataFrame(oversampled_Y), pd.DataFrame(oversampled_X)], axis=1)\n",
    "df_upsampled_v2['DEATH_EVENT']\n",
    "df_upsampled_v2.to_csv('v2_training_smote_data.csv', index=False)"
   ]
  }
 ],
 "metadata": {
  "kernelspec": {
   "display_name": "Python 3",
   "language": "python",
   "name": "python3"
  },
  "language_info": {
   "codemirror_mode": {
    "name": "ipython",
    "version": 3
   },
   "file_extension": ".py",
   "mimetype": "text/x-python",
   "name": "python",
   "nbconvert_exporter": "python",
   "pygments_lexer": "ipython3",
   "version": "3.9.6"
  }
 },
 "nbformat": 4,
 "nbformat_minor": 2
}

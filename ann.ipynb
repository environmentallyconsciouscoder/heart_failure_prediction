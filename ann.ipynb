{
 "cells": [
  {
   "cell_type": "code",
   "execution_count": 122,
   "metadata": {},
   "outputs": [],
   "source": [
    "import numpy as np\n",
    "import pandas as pd\n",
    "\n",
    "import seaborn as sns\n",
    "import matplotlib.pyplot as plt\n",
    "from sklearn.metrics import confusion_matrix\n",
    "from data import DataFrame\n",
    "from utils import open_csv_file\n",
    "from mlxtend.plotting import plot_confusion_matrix\n",
    "\n",
    "import sklearn\n",
    "from sklearn.metrics import accuracy_score\n",
    "from sklearn.preprocessing import StandardScaler, LabelEncoder, MinMaxScaler\n",
    "from sklearn.model_selection import train_test_split, GridSearchCV, cross_val_score\n",
    "\n",
    "from sklearn.metrics import f1_score, recall_score, precision_score\n",
    "from sklearn.metrics import roc_auc_score\n",
    "from sklearn.metrics import accuracy_score\n",
    "\n",
    "from sklearn.ensemble import RandomForestClassifier\n",
    "\n",
    "import warnings\n",
    "warnings.filterwarnings('ignore')"
   ]
  },
  {
   "cell_type": "code",
   "execution_count": 123,
   "metadata": {},
   "outputs": [],
   "source": [
    "testing_data = open_csv_file('v2_testing_data.csv')\n",
    "\n",
    "training_data = open_csv_file('v2_training_data.csv')\n",
    "training_data_from_sampling = open_csv_file('v2_training_sampling_data.csv')\n",
    "training_data_from_smote = open_csv_file('v2_training_smote_data.csv')"
   ]
  },
  {
   "cell_type": "code",
   "execution_count": 124,
   "metadata": {},
   "outputs": [],
   "source": [
    "y_test =DataFrame(testing_data).get_df()[['DEATH_EVENT']]\n",
    "X_test = DataFrame(testing_data).get_df()[['time_bucket', 'ejection_fraction', 'serum_creatinine']]"
   ]
  },
  {
   "cell_type": "markdown",
   "metadata": {},
   "source": [
    "normal data"
   ]
  },
  {
   "cell_type": "code",
   "execution_count": 125,
   "metadata": {},
   "outputs": [],
   "source": [
    "y_train =DataFrame(training_data).get_df()['DEATH_EVENT']\n",
    "X_train = DataFrame(training_data).get_df()[['time_bucket', 'ejection_fraction', 'serum_creatinine']]"
   ]
  },
  {
   "cell_type": "code",
   "execution_count": 126,
   "metadata": {},
   "outputs": [],
   "source": [
    "import tensorflow as tf\n",
    "from tensorflow.keras.layers import Dense, Dropout\n",
    "from tensorflow.keras.models import Sequential\n",
    "from tensorflow.keras.callbacks import EarlyStopping\n",
    "\n",
    "early_stop = EarlyStopping(monitor='val_loss', mode='min', verbose=1, patience=5)\n",
    "\n",
    "## initialise your neural network\n",
    "model = Sequential()\n",
    "\n",
    "## set up your input layer\n",
    "model.add(Dense(units = 16, kernel_initializer = \"uniform\", activation = 'relu', input_dim = 3))\n",
    "\n",
    "# hidden layer one\n",
    "model.add(Dense(units = 8, kernel_initializer = \"uniform\", activation = 'relu'))\n",
    "\n",
    "# hidden layer two\n",
    "model.add(Dense(units = 4, kernel_initializer = \"uniform\", activation = 'relu'))\n",
    "\n",
    "# regularization\n",
    "model.add(Dropout(0.25))\n",
    "\n",
    "#output layer\n",
    "model.add(Dense(units = 1, kernel_initializer = \"uniform\", activation = 'sigmoid'))\n",
    "\n",
    "model.compile(optimizer = 'adam', loss = 'binary_crossentropy', metrics = ['accuracy'])"
   ]
  },
  {
   "cell_type": "code",
   "execution_count": 127,
   "metadata": {},
   "outputs": [
    {
     "name": "stdout",
     "output_type": "stream",
     "text": [
      "Epoch 1/100\n"
     ]
    },
    {
     "name": "stdout",
     "output_type": "stream",
     "text": [
      "6/6 [==============================] - 1s 24ms/step - loss: 0.6927 - accuracy: 0.7068 - val_loss: 0.6920 - val_accuracy: 0.6875\n",
      "Epoch 2/100\n",
      "6/6 [==============================] - 0s 4ms/step - loss: 0.6914 - accuracy: 0.6963 - val_loss: 0.6908 - val_accuracy: 0.6875\n",
      "Epoch 3/100\n",
      "6/6 [==============================] - 0s 4ms/step - loss: 0.6903 - accuracy: 0.6963 - val_loss: 0.6897 - val_accuracy: 0.6875\n",
      "Epoch 4/100\n",
      "6/6 [==============================] - 0s 4ms/step - loss: 0.6890 - accuracy: 0.6963 - val_loss: 0.6885 - val_accuracy: 0.6875\n",
      "Epoch 5/100\n",
      "6/6 [==============================] - 0s 4ms/step - loss: 0.6878 - accuracy: 0.6963 - val_loss: 0.6873 - val_accuracy: 0.6875\n",
      "Epoch 6/100\n",
      "6/6 [==============================] - 0s 4ms/step - loss: 0.6866 - accuracy: 0.6963 - val_loss: 0.6860 - val_accuracy: 0.6875\n",
      "Epoch 7/100\n",
      "6/6 [==============================] - 0s 4ms/step - loss: 0.6849 - accuracy: 0.6963 - val_loss: 0.6846 - val_accuracy: 0.6875\n",
      "Epoch 8/100\n",
      "6/6 [==============================] - 0s 4ms/step - loss: 0.6836 - accuracy: 0.6963 - val_loss: 0.6830 - val_accuracy: 0.6875\n",
      "Epoch 9/100\n",
      "6/6 [==============================] - 0s 4ms/step - loss: 0.6817 - accuracy: 0.6963 - val_loss: 0.6812 - val_accuracy: 0.6875\n",
      "Epoch 10/100\n",
      "6/6 [==============================] - 0s 4ms/step - loss: 0.6798 - accuracy: 0.6963 - val_loss: 0.6790 - val_accuracy: 0.6875\n",
      "Epoch 11/100\n",
      "6/6 [==============================] - 0s 4ms/step - loss: 0.6770 - accuracy: 0.6963 - val_loss: 0.6764 - val_accuracy: 0.6875\n",
      "Epoch 12/100\n",
      "6/6 [==============================] - 0s 4ms/step - loss: 0.6752 - accuracy: 0.6963 - val_loss: 0.6733 - val_accuracy: 0.6875\n",
      "Epoch 13/100\n",
      "6/6 [==============================] - 0s 4ms/step - loss: 0.6707 - accuracy: 0.6963 - val_loss: 0.6695 - val_accuracy: 0.6875\n",
      "Epoch 14/100\n",
      "6/6 [==============================] - 0s 4ms/step - loss: 0.6662 - accuracy: 0.6963 - val_loss: 0.6649 - val_accuracy: 0.6875\n",
      "Epoch 15/100\n",
      "6/6 [==============================] - 0s 4ms/step - loss: 0.6637 - accuracy: 0.6963 - val_loss: 0.6594 - val_accuracy: 0.6875\n",
      "Epoch 16/100\n",
      "6/6 [==============================] - 0s 3ms/step - loss: 0.6524 - accuracy: 0.6963 - val_loss: 0.6527 - val_accuracy: 0.6875\n",
      "Epoch 17/100\n",
      "6/6 [==============================] - 0s 3ms/step - loss: 0.6507 - accuracy: 0.6963 - val_loss: 0.6450 - val_accuracy: 0.6875\n",
      "Epoch 18/100\n",
      "6/6 [==============================] - 0s 3ms/step - loss: 0.6409 - accuracy: 0.6963 - val_loss: 0.6360 - val_accuracy: 0.6875\n",
      "Epoch 19/100\n",
      "6/6 [==============================] - 0s 4ms/step - loss: 0.6361 - accuracy: 0.6963 - val_loss: 0.6259 - val_accuracy: 0.6875\n",
      "Epoch 20/100\n",
      "6/6 [==============================] - 0s 4ms/step - loss: 0.6229 - accuracy: 0.6963 - val_loss: 0.6143 - val_accuracy: 0.6875\n",
      "Epoch 21/100\n",
      "6/6 [==============================] - 0s 4ms/step - loss: 0.6118 - accuracy: 0.6963 - val_loss: 0.6020 - val_accuracy: 0.6875\n",
      "Epoch 22/100\n",
      "6/6 [==============================] - 0s 4ms/step - loss: 0.5862 - accuracy: 0.6963 - val_loss: 0.5880 - val_accuracy: 0.7083\n",
      "Epoch 23/100\n",
      "6/6 [==============================] - 0s 3ms/step - loss: 0.5906 - accuracy: 0.7068 - val_loss: 0.5731 - val_accuracy: 0.7083\n",
      "Epoch 24/100\n",
      "6/6 [==============================] - 0s 4ms/step - loss: 0.5780 - accuracy: 0.7592 - val_loss: 0.5592 - val_accuracy: 0.7292\n",
      "Epoch 25/100\n",
      "6/6 [==============================] - 0s 4ms/step - loss: 0.5402 - accuracy: 0.7749 - val_loss: 0.5450 - val_accuracy: 0.7083\n",
      "Epoch 26/100\n",
      "6/6 [==============================] - 0s 4ms/step - loss: 0.5412 - accuracy: 0.7435 - val_loss: 0.5315 - val_accuracy: 0.7292\n",
      "Epoch 27/100\n",
      "6/6 [==============================] - 0s 4ms/step - loss: 0.5464 - accuracy: 0.7539 - val_loss: 0.5198 - val_accuracy: 0.7292\n",
      "Epoch 28/100\n",
      "6/6 [==============================] - 0s 4ms/step - loss: 0.5137 - accuracy: 0.7853 - val_loss: 0.5091 - val_accuracy: 0.7500\n",
      "Epoch 29/100\n",
      "6/6 [==============================] - 0s 3ms/step - loss: 0.5150 - accuracy: 0.8010 - val_loss: 0.4990 - val_accuracy: 0.7708\n",
      "Epoch 30/100\n",
      "6/6 [==============================] - 0s 4ms/step - loss: 0.5011 - accuracy: 0.8220 - val_loss: 0.4907 - val_accuracy: 0.7708\n",
      "Epoch 31/100\n",
      "6/6 [==============================] - 0s 4ms/step - loss: 0.5104 - accuracy: 0.7906 - val_loss: 0.4830 - val_accuracy: 0.7708\n",
      "Epoch 32/100\n",
      "6/6 [==============================] - 0s 3ms/step - loss: 0.5067 - accuracy: 0.7958 - val_loss: 0.4761 - val_accuracy: 0.7708\n",
      "Epoch 33/100\n",
      "6/6 [==============================] - 0s 4ms/step - loss: 0.5110 - accuracy: 0.8115 - val_loss: 0.4709 - val_accuracy: 0.7708\n",
      "Epoch 34/100\n",
      "6/6 [==============================] - 0s 3ms/step - loss: 0.4788 - accuracy: 0.8063 - val_loss: 0.4667 - val_accuracy: 0.7917\n",
      "Epoch 35/100\n",
      "6/6 [==============================] - 0s 3ms/step - loss: 0.4683 - accuracy: 0.8272 - val_loss: 0.4644 - val_accuracy: 0.7917\n",
      "Epoch 36/100\n",
      "6/6 [==============================] - 0s 3ms/step - loss: 0.4829 - accuracy: 0.8115 - val_loss: 0.4604 - val_accuracy: 0.7917\n",
      "Epoch 37/100\n",
      "6/6 [==============================] - 0s 3ms/step - loss: 0.4692 - accuracy: 0.7958 - val_loss: 0.4584 - val_accuracy: 0.7917\n",
      "Epoch 38/100\n",
      "6/6 [==============================] - 0s 3ms/step - loss: 0.4579 - accuracy: 0.8010 - val_loss: 0.4569 - val_accuracy: 0.7917\n",
      "Epoch 39/100\n",
      "6/6 [==============================] - 0s 3ms/step - loss: 0.4462 - accuracy: 0.8220 - val_loss: 0.4541 - val_accuracy: 0.7917\n",
      "Epoch 40/100\n",
      "6/6 [==============================] - 0s 4ms/step - loss: 0.4505 - accuracy: 0.8010 - val_loss: 0.4517 - val_accuracy: 0.7917\n",
      "Epoch 41/100\n",
      "6/6 [==============================] - 0s 3ms/step - loss: 0.4583 - accuracy: 0.8115 - val_loss: 0.4500 - val_accuracy: 0.7917\n",
      "Epoch 42/100\n",
      "6/6 [==============================] - 0s 3ms/step - loss: 0.4440 - accuracy: 0.8220 - val_loss: 0.4507 - val_accuracy: 0.7917\n",
      "Epoch 43/100\n",
      "6/6 [==============================] - 0s 3ms/step - loss: 0.4557 - accuracy: 0.7958 - val_loss: 0.4533 - val_accuracy: 0.7917\n",
      "Epoch 44/100\n",
      "6/6 [==============================] - 0s 3ms/step - loss: 0.4572 - accuracy: 0.8063 - val_loss: 0.4513 - val_accuracy: 0.7917\n",
      "Epoch 45/100\n",
      "6/6 [==============================] - 0s 3ms/step - loss: 0.4618 - accuracy: 0.8168 - val_loss: 0.4492 - val_accuracy: 0.7917\n",
      "Epoch 46/100\n",
      "6/6 [==============================] - 0s 3ms/step - loss: 0.4966 - accuracy: 0.8168 - val_loss: 0.4466 - val_accuracy: 0.7917\n",
      "Epoch 47/100\n",
      "6/6 [==============================] - 0s 3ms/step - loss: 0.4377 - accuracy: 0.8325 - val_loss: 0.4451 - val_accuracy: 0.7917\n",
      "Epoch 48/100\n",
      "6/6 [==============================] - 0s 4ms/step - loss: 0.4515 - accuracy: 0.8325 - val_loss: 0.4459 - val_accuracy: 0.7917\n",
      "Epoch 49/100\n",
      "6/6 [==============================] - 0s 4ms/step - loss: 0.4448 - accuracy: 0.8115 - val_loss: 0.4448 - val_accuracy: 0.7917\n",
      "Epoch 50/100\n",
      "6/6 [==============================] - 0s 4ms/step - loss: 0.4628 - accuracy: 0.8010 - val_loss: 0.4445 - val_accuracy: 0.7917\n",
      "Epoch 51/100\n",
      "6/6 [==============================] - 0s 4ms/step - loss: 0.4276 - accuracy: 0.8429 - val_loss: 0.4447 - val_accuracy: 0.7917\n",
      "Epoch 52/100\n",
      "6/6 [==============================] - 0s 4ms/step - loss: 0.4645 - accuracy: 0.8220 - val_loss: 0.4444 - val_accuracy: 0.7917\n",
      "Epoch 53/100\n",
      "6/6 [==============================] - 0s 4ms/step - loss: 0.4614 - accuracy: 0.8377 - val_loss: 0.4428 - val_accuracy: 0.7917\n",
      "Epoch 54/100\n",
      "6/6 [==============================] - 0s 3ms/step - loss: 0.4577 - accuracy: 0.8325 - val_loss: 0.4424 - val_accuracy: 0.7917\n",
      "Epoch 55/100\n",
      "6/6 [==============================] - 0s 3ms/step - loss: 0.4366 - accuracy: 0.8063 - val_loss: 0.4406 - val_accuracy: 0.7917\n",
      "Epoch 56/100\n",
      "6/6 [==============================] - 0s 3ms/step - loss: 0.4381 - accuracy: 0.8325 - val_loss: 0.4424 - val_accuracy: 0.7917\n",
      "Epoch 57/100\n",
      "6/6 [==============================] - 0s 3ms/step - loss: 0.4398 - accuracy: 0.8115 - val_loss: 0.4437 - val_accuracy: 0.7917\n",
      "Epoch 58/100\n",
      "6/6 [==============================] - 0s 3ms/step - loss: 0.4231 - accuracy: 0.8482 - val_loss: 0.4448 - val_accuracy: 0.7917\n",
      "Epoch 59/100\n",
      "6/6 [==============================] - 0s 3ms/step - loss: 0.4328 - accuracy: 0.8534 - val_loss: 0.4455 - val_accuracy: 0.7917\n",
      "Epoch 60/100\n",
      "6/6 [==============================] - 0s 3ms/step - loss: 0.4418 - accuracy: 0.8377 - val_loss: 0.4465 - val_accuracy: 0.7917\n",
      "Epoch 60: early stopping\n"
     ]
    },
    {
     "data": {
      "text/plain": [
       "<keras.src.callbacks.History at 0x2d8821df0>"
      ]
     },
     "execution_count": 127,
     "metadata": {},
     "output_type": "execute_result"
    }
   ],
   "source": [
    "model.fit(X_train, y_train, batch_size=32, epochs=100, validation_split=0.20, callbacks=[early_stop])"
   ]
  },
  {
   "cell_type": "code",
   "execution_count": 128,
   "metadata": {},
   "outputs": [
    {
     "name": "stdout",
     "output_type": "stream",
     "text": [
      "2/2 [==============================] - 0s 1ms/step\n"
     ]
    },
    {
     "data": {
      "text/plain": [
       "array([[0.10083982],\n",
       "       [0.10716647],\n",
       "       [0.73634183],\n",
       "       [0.10278245],\n",
       "       [0.13222776],\n",
       "       [0.127385  ],\n",
       "       [0.76512176],\n",
       "       [0.1019982 ],\n",
       "       [0.67128515],\n",
       "       [0.2878032 ],\n",
       "       [0.08244721],\n",
       "       [0.37308064],\n",
       "       [0.15896757],\n",
       "       [0.08804177],\n",
       "       [0.63675225],\n",
       "       [0.7472784 ],\n",
       "       [0.07506154],\n",
       "       [0.20993231],\n",
       "       [0.11259228],\n",
       "       [0.07898498],\n",
       "       [0.15958352],\n",
       "       [0.4698869 ],\n",
       "       [0.50056404],\n",
       "       [0.56725585],\n",
       "       [0.330539  ],\n",
       "       [0.1775148 ],\n",
       "       [0.28656468],\n",
       "       [0.07594884],\n",
       "       [0.07511958],\n",
       "       [0.07594884],\n",
       "       [0.2034015 ],\n",
       "       [0.80823433],\n",
       "       [0.33175176],\n",
       "       [0.15118569],\n",
       "       [0.51366776],\n",
       "       [0.23281989],\n",
       "       [0.10716647],\n",
       "       [0.15896757],\n",
       "       [0.08180396],\n",
       "       [0.68528384],\n",
       "       [0.05800785],\n",
       "       [0.6274811 ],\n",
       "       [0.22287217],\n",
       "       [0.33495995],\n",
       "       [0.7766134 ],\n",
       "       [0.19089662],\n",
       "       [0.10515065],\n",
       "       [0.16885148],\n",
       "       [0.30466014],\n",
       "       [0.69599825],\n",
       "       [0.23053332],\n",
       "       [0.08505263],\n",
       "       [0.38947323],\n",
       "       [0.2417273 ],\n",
       "       [0.8283026 ],\n",
       "       [0.1622135 ],\n",
       "       [0.1596764 ],\n",
       "       [0.5262857 ],\n",
       "       [0.07511958],\n",
       "       [0.18504761]], dtype=float32)"
      ]
     },
     "execution_count": 128,
     "metadata": {},
     "output_type": "execute_result"
    }
   ],
   "source": [
    "y_pred_ann = model.predict(X_test)\n",
    "y_pred_ann"
   ]
  },
  {
   "cell_type": "code",
   "execution_count": 129,
   "metadata": {},
   "outputs": [
    {
     "data": {
      "text/plain": [
       "array([[0],\n",
       "       [0],\n",
       "       [1],\n",
       "       [0],\n",
       "       [0],\n",
       "       [0],\n",
       "       [1],\n",
       "       [0],\n",
       "       [1],\n",
       "       [0],\n",
       "       [0],\n",
       "       [0],\n",
       "       [0],\n",
       "       [0],\n",
       "       [1],\n",
       "       [1],\n",
       "       [0],\n",
       "       [0],\n",
       "       [0],\n",
       "       [0],\n",
       "       [0],\n",
       "       [0],\n",
       "       [1],\n",
       "       [1],\n",
       "       [0],\n",
       "       [0],\n",
       "       [0],\n",
       "       [0],\n",
       "       [0],\n",
       "       [0],\n",
       "       [0],\n",
       "       [1],\n",
       "       [0],\n",
       "       [0],\n",
       "       [1],\n",
       "       [0],\n",
       "       [0],\n",
       "       [0],\n",
       "       [0],\n",
       "       [1],\n",
       "       [0],\n",
       "       [1],\n",
       "       [0],\n",
       "       [0],\n",
       "       [1],\n",
       "       [0],\n",
       "       [0],\n",
       "       [0],\n",
       "       [0],\n",
       "       [1],\n",
       "       [0],\n",
       "       [0],\n",
       "       [0],\n",
       "       [0],\n",
       "       [1],\n",
       "       [0],\n",
       "       [0],\n",
       "       [1],\n",
       "       [0],\n",
       "       [0]])"
      ]
     },
     "execution_count": 129,
     "metadata": {},
     "output_type": "execute_result"
    }
   ],
   "source": [
    "y_pred = np.where(y_pred_ann > 0.50, 1, 0)\n",
    "y_pred"
   ]
  },
  {
   "cell_type": "code",
   "execution_count": 130,
   "metadata": {},
   "outputs": [
    {
     "name": "stdout",
     "output_type": "stream",
     "text": [
      "Accuracy Score: 0.7667\n",
      "Random Forest Classifier f1-score      : 0.6316\n",
      "Random Forest Classifier precision     : 0.8000\n",
      "Random Forest Classifier recall        : 0.5217\n",
      "Random Forest Classifier roc auc score : 0.7203\n"
     ]
    }
   ],
   "source": [
    "print('Accuracy Score: {:.4f}'.format(accuracy_score(y_test, y_pred)))\n",
    "print('ANN f1-score      : {:.4f}'.format(f1_score( y_test , y_pred)))\n",
    "print('ANN precision     : {:.4f}'.format(precision_score(y_test, y_pred)))\n",
    "print('ANN recall        : {:.4f}'.format(recall_score(y_test, y_pred)))\n",
    "print(\"ANN roc auc score : {:.4f}\".format(roc_auc_score(y_test,y_pred)))"
   ]
  },
  {
   "cell_type": "code",
   "execution_count": 131,
   "metadata": {},
   "outputs": [
    {
     "data": {
      "image/png": "[encoded data removed]",
      "text/plain": [
       "<Figure size 400x400 with 1 Axes>"
      ]
     },
     "metadata": {},
     "output_type": "display_data"
    }
   ],
   "source": [
    "cm = confusion_matrix(y_test, y_pred)\n",
    "\n",
    "## confusion matrix plot\n",
    "fig, ax = plot_confusion_matrix(conf_mat=cm, figsize=(4,4))\n",
    "plt.xlabel('Predictions', fontsize = 18)\n",
    "plt.ylabel('Actuals', fontsize = 18)\n",
    "plt.title('confusion matrix', fontsize = 18)\n",
    "plt.show()"
   ]
  },
  {
   "cell_type": "markdown",
   "metadata": {},
   "source": [
    "resampling"
   ]
  },
  {
   "cell_type": "code",
   "execution_count": 132,
   "metadata": {},
   "outputs": [],
   "source": [
    "y_train_resampling =DataFrame(training_data_from_sampling).get_df()['DEATH_EVENT']\n",
    "X_train_resampling = DataFrame(training_data_from_sampling).get_df()[['time_bucket', 'ejection_fraction', 'serum_creatinine']]"
   ]
  },
  {
   "cell_type": "code",
   "execution_count": 133,
   "metadata": {},
   "outputs": [],
   "source": [
    "import tensorflow as tf\n",
    "from tensorflow.keras.layers import Dense, Dropout\n",
    "from tensorflow.keras.models import Sequential\n",
    "from tensorflow.keras.callbacks import EarlyStopping\n",
    "\n",
    "early_stop = EarlyStopping(monitor='val_loss', mode='min', verbose=1, patience=5)\n",
    "\n",
    "## initialise your neural network\n",
    "model = Sequential()\n",
    "\n",
    "## set up your input layer\n",
    "model.add(Dense(units = 16, kernel_initializer = \"uniform\", activation = 'relu', input_dim = 3))\n",
    "\n",
    "# hidden layer one\n",
    "model.add(Dense(units = 8, kernel_initializer = \"uniform\", activation = 'relu'))\n",
    "\n",
    "# hidden layer two\n",
    "model.add(Dense(units = 4, kernel_initializer = \"uniform\", activation = 'relu'))\n",
    "\n",
    "# regularization\n",
    "model.add(Dropout(0.25))\n",
    "\n",
    "#output layer\n",
    "model.add(Dense(units = 1, kernel_initializer = \"uniform\", activation = 'sigmoid'))\n",
    "\n",
    "#compiling the network\n",
    "model.compile(optimizer = 'adam', loss = 'binary_crossentropy', metrics = ['accuracy'])"
   ]
  },
  {
   "cell_type": "code",
   "execution_count": 134,
   "metadata": {},
   "outputs": [
    {
     "name": "stdout",
     "output_type": "stream",
     "text": [
      "Epoch 1/100\n",
      "4/4 [==============================] - 0s 37ms/step - loss: 0.6930 - accuracy: 0.5690 - val_loss: 0.6950 - val_accuracy: 0.0000e+00\n",
      "Epoch 2/100\n",
      "4/4 [==============================] - 0s 6ms/step - loss: 0.6925 - accuracy: 0.6293 - val_loss: 0.6966 - val_accuracy: 0.0000e+00\n",
      "Epoch 3/100\n",
      "4/4 [==============================] - 0s 5ms/step - loss: 0.6921 - accuracy: 0.6293 - val_loss: 0.6982 - val_accuracy: 0.0000e+00\n",
      "Epoch 4/100\n",
      "4/4 [==============================] - 0s 5ms/step - loss: 0.6917 - accuracy: 0.6293 - val_loss: 0.6999 - val_accuracy: 0.0000e+00\n",
      "Epoch 5/100\n",
      "4/4 [==============================] - 0s 5ms/step - loss: 0.6912 - accuracy: 0.6293 - val_loss: 0.7017 - val_accuracy: 0.0000e+00\n",
      "Epoch 6/100\n",
      "4/4 [==============================] - 0s 6ms/step - loss: 0.6909 - accuracy: 0.6293 - val_loss: 0.7035 - val_accuracy: 0.0000e+00\n",
      "Epoch 6: early stopping\n"
     ]
    },
    {
     "data": {
      "text/plain": [
       "<keras.src.callbacks.History at 0x2d8973ac0>"
      ]
     },
     "execution_count": 134,
     "metadata": {},
     "output_type": "execute_result"
    }
   ],
   "source": [
    "model.fit(X_train_resampling, y_train_resampling, batch_size=32, epochs=100, validation_split=0.20, callbacks=[early_stop])"
   ]
  },
  {
   "cell_type": "code",
   "execution_count": 135,
   "metadata": {},
   "outputs": [
    {
     "name": "stdout",
     "output_type": "stream",
     "text": [
      "2/2 [==============================] - 0s 2ms/step\n"
     ]
    },
    {
     "data": {
      "text/plain": [
       "array([[0.4947871 ],\n",
       "       [0.49478918],\n",
       "       [0.49485636],\n",
       "       [0.49478838],\n",
       "       [0.4947959 ],\n",
       "       [0.4947948 ],\n",
       "       [0.49484   ],\n",
       "       [0.49478686],\n",
       "       [0.49484345],\n",
       "       [0.49482626],\n",
       "       [0.4947787 ],\n",
       "       [0.49484265],\n",
       "       [0.4947996 ],\n",
       "       [0.49478126],\n",
       "       [0.4948485 ],\n",
       "       [0.4948458 ],\n",
       "       [0.49477556],\n",
       "       [0.4948174 ],\n",
       "       [0.49479148],\n",
       "       [0.4947779 ],\n",
       "       [0.4948038 ],\n",
       "       [0.49483314],\n",
       "       [0.49484104],\n",
       "       [0.49484175],\n",
       "       [0.49481368],\n",
       "       [0.49480835],\n",
       "       [0.49481034],\n",
       "       [0.49477535],\n",
       "       [0.49477524],\n",
       "       [0.49477535],\n",
       "       [0.49481416],\n",
       "       [0.49485222],\n",
       "       [0.494837  ],\n",
       "       [0.4948034 ],\n",
       "       [0.49482715],\n",
       "       [0.4948218 ],\n",
       "       [0.49478918],\n",
       "       [0.4947996 ],\n",
       "       [0.4947772 ],\n",
       "       [0.4948555 ],\n",
       "       [0.49476397],\n",
       "       [0.4948395 ],\n",
       "       [0.49481967],\n",
       "       [0.4948387 ],\n",
       "       [0.4948606 ],\n",
       "       [0.49480906],\n",
       "       [0.4947879 ],\n",
       "       [0.49480614],\n",
       "       [0.494835  ],\n",
       "       [0.4948569 ],\n",
       "       [0.49482137],\n",
       "       [0.49477974],\n",
       "       [0.49481887],\n",
       "       [0.49482447],\n",
       "       [0.4948632 ],\n",
       "       [0.49480206],\n",
       "       [0.49480513],\n",
       "       [0.4948449 ],\n",
       "       [0.49477524],\n",
       "       [0.4948101 ]], dtype=float32)"
      ]
     },
     "execution_count": 135,
     "metadata": {},
     "output_type": "execute_result"
    }
   ],
   "source": [
    "y_pred_ann_resampling = model.predict(X_test)\n",
    "y_pred_ann_resampling"
   ]
  },
  {
   "cell_type": "code",
   "execution_count": 136,
   "metadata": {},
   "outputs": [
    {
     "data": {
      "text/plain": [
       "array([[0],\n",
       "       [0],\n",
       "       [0],\n",
       "       [0],\n",
       "       [0],\n",
       "       [0],\n",
       "       [0],\n",
       "       [0],\n",
       "       [0],\n",
       "       [0],\n",
       "       [0],\n",
       "       [0],\n",
       "       [0],\n",
       "       [0],\n",
       "       [0],\n",
       "       [0],\n",
       "       [0],\n",
       "       [0],\n",
       "       [0],\n",
       "       [0],\n",
       "       [0],\n",
       "       [0],\n",
       "       [0],\n",
       "       [0],\n",
       "       [0],\n",
       "       [0],\n",
       "       [0],\n",
       "       [0],\n",
       "       [0],\n",
       "       [0],\n",
       "       [0],\n",
       "       [0],\n",
       "       [0],\n",
       "       [0],\n",
       "       [0],\n",
       "       [0],\n",
       "       [0],\n",
       "       [0],\n",
       "       [0],\n",
       "       [0],\n",
       "       [0],\n",
       "       [0],\n",
       "       [0],\n",
       "       [0],\n",
       "       [0],\n",
       "       [0],\n",
       "       [0],\n",
       "       [0],\n",
       "       [0],\n",
       "       [0],\n",
       "       [0],\n",
       "       [0],\n",
       "       [0],\n",
       "       [0],\n",
       "       [0],\n",
       "       [0],\n",
       "       [0],\n",
       "       [0],\n",
       "       [0],\n",
       "       [0]])"
      ]
     },
     "execution_count": 136,
     "metadata": {},
     "output_type": "execute_result"
    }
   ],
   "source": [
    "y_pred_sampling = np.where(y_pred_ann_resampling > 0.50, 1, 0)\n",
    "y_pred_sampling"
   ]
  },
  {
   "cell_type": "code",
   "execution_count": 137,
   "metadata": {},
   "outputs": [
    {
     "name": "stdout",
     "output_type": "stream",
     "text": [
      "Accuracy Score: 0.6167\n",
      "Random Forest Classifier f1-score      : 0.0000\n",
      "Random Forest Classifier precision     : 0.0000\n",
      "Random Forest Classifier recall        : 0.0000\n",
      "Random Forest Classifier roc auc score : 0.5000\n"
     ]
    }
   ],
   "source": [
    "print('Accuracy Score: {:.4f}'.format(accuracy_score(y_test, y_pred_sampling)))\n",
    "print('ANN f1-score      : {:.4f}'.format(f1_score( y_test , y_pred_sampling)))\n",
    "print('ANN precision     : {:.4f}'.format(precision_score(y_test, y_pred_sampling)))\n",
    "print('ANN recall        : {:.4f}'.format(recall_score(y_test, y_pred_sampling)))\n",
    "print(\"ANN roc auc score : {:.4f}\".format(roc_auc_score(y_test,y_pred_sampling)))"
   ]
  },
  {
   "cell_type": "code",
   "execution_count": 138,
   "metadata": {},
   "outputs": [
    {
     "data": {
      "image/png": "[encoded data removed]",
      "text/plain": [
       "<Figure size 400x400 with 1 Axes>"
      ]
     },
     "metadata": {},
     "output_type": "display_data"
    }
   ],
   "source": [
    "cm = confusion_matrix(y_test, y_pred_sampling)\n",
    "fig, ax = plot_confusion_matrix(conf_mat=cm, figsize=(4,4))\n",
    "plt.xlabel('Predictions', fontsize = 18)\n",
    "plt.ylabel('Actuals', fontsize = 18)\n",
    "plt.title('confusion matrix', fontsize = 18)\n",
    "plt.show()"
   ]
  },
  {
   "cell_type": "markdown",
   "metadata": {},
   "source": [
    "SMOTE"
   ]
  },
  {
   "cell_type": "code",
   "execution_count": 139,
   "metadata": {},
   "outputs": [],
   "source": [
    "y_train_smote =DataFrame(training_data_from_smote).get_df()['DEATH_EVENT']\n",
    "X_train_smote = DataFrame(training_data_from_smote).get_df()[['time_bucket', 'ejection_fraction', 'serum_creatinine']]"
   ]
  },
  {
   "cell_type": "code",
   "execution_count": 140,
   "metadata": {},
   "outputs": [],
   "source": [
    "import tensorflow as tf\n",
    "from tensorflow.keras.layers import Dense, Dropout\n",
    "from tensorflow.keras.models import Sequential\n",
    "from tensorflow.keras.callbacks import EarlyStopping\n",
    "\n",
    "early_stop = EarlyStopping(monitor='val_loss', mode='min', verbose=1, patience=5)\n",
    "\n",
    "## initialise your neural network\n",
    "model = Sequential()\n",
    "\n",
    "## set up your input layer\n",
    "model.add(Dense(units = 16, kernel_initializer = \"uniform\", activation = 'relu', input_dim = 3))\n",
    "\n",
    "# hidden layer one\n",
    "model.add(Dense(units = 8, kernel_initializer = \"uniform\", activation = 'relu'))\n",
    "\n",
    "# hidden layer two\n",
    "model.add(Dense(units = 4, kernel_initializer = \"uniform\", activation = 'relu'))\n",
    "\n",
    "# regularization\n",
    "model.add(Dropout(0.25))\n",
    "\n",
    "#output layer\n",
    "model.add(Dense(units = 1, kernel_initializer = \"uniform\", activation = 'sigmoid'))\n",
    "\n",
    "#compiling the network\n",
    "model.compile(optimizer = 'adam', loss = 'binary_crossentropy', metrics = ['accuracy'])"
   ]
  },
  {
   "cell_type": "code",
   "execution_count": 141,
   "metadata": {},
   "outputs": [
    {
     "name": "stdout",
     "output_type": "stream",
     "text": [
      "Epoch 1/100\n",
      "2/2 [==============================] - 0s 113ms/step - loss: 0.6931 - accuracy: 0.5763 - val_loss: 0.6940 - val_accuracy: 0.0667\n",
      "Epoch 2/100\n",
      "2/2 [==============================] - 0s 14ms/step - loss: 0.6929 - accuracy: 0.6102 - val_loss: 0.6949 - val_accuracy: 0.0667\n",
      "Epoch 3/100\n",
      "2/2 [==============================] - 0s 14ms/step - loss: 0.6926 - accuracy: 0.6102 - val_loss: 0.6957 - val_accuracy: 0.0667\n",
      "Epoch 4/100\n",
      "2/2 [==============================] - 0s 15ms/step - loss: 0.6925 - accuracy: 0.6102 - val_loss: 0.6966 - val_accuracy: 0.0667\n",
      "Epoch 5/100\n",
      "2/2 [==============================] - 0s 15ms/step - loss: 0.6922 - accuracy: 0.6102 - val_loss: 0.6974 - val_accuracy: 0.0667\n",
      "Epoch 6/100\n",
      "2/2 [==============================] - 0s 15ms/step - loss: 0.6920 - accuracy: 0.6102 - val_loss: 0.6983 - val_accuracy: 0.0667\n",
      "Epoch 6: early stopping\n"
     ]
    },
    {
     "data": {
      "text/plain": [
       "<keras.src.callbacks.History at 0x2d998f430>"
      ]
     },
     "execution_count": 141,
     "metadata": {},
     "output_type": "execute_result"
    }
   ],
   "source": [
    "model.fit(X_train_smote, y_train_smote, batch_size=32, epochs=100, validation_split=0.20, callbacks=[early_stop])"
   ]
  },
  {
   "cell_type": "code",
   "execution_count": 142,
   "metadata": {},
   "outputs": [
    {
     "name": "stdout",
     "output_type": "stream",
     "text": [
      "2/2 [==============================] - 0s 2ms/step\n"
     ]
    },
    {
     "data": {
      "text/plain": [
       "array([[0.49705145],\n",
       "       [0.49705184],\n",
       "       [0.49706918],\n",
       "       [0.49705222],\n",
       "       [0.4970542 ],\n",
       "       [0.49705222],\n",
       "       [0.4970714 ],\n",
       "       [0.4970509 ],\n",
       "       [0.49707443],\n",
       "       [0.4970622 ],\n",
       "       [0.49704903],\n",
       "       [0.4970656 ],\n",
       "       [0.49705553],\n",
       "       [0.4970504 ],\n",
       "       [0.49706754],\n",
       "       [0.49706873],\n",
       "       [0.49704856],\n",
       "       [0.49706027],\n",
       "       [0.49705264],\n",
       "       [0.49704936],\n",
       "       [0.4970554 ],\n",
       "       [0.49706405],\n",
       "       [0.49706706],\n",
       "       [0.497067  ],\n",
       "       [0.49706075],\n",
       "       [0.49705803],\n",
       "       [0.4970596 ],\n",
       "       [0.49704814],\n",
       "       [0.49704826],\n",
       "       [0.49704814],\n",
       "       [0.49705818],\n",
       "       [0.4970705 ],\n",
       "       [0.49706233],\n",
       "       [0.49705642],\n",
       "       [0.4970719 ],\n",
       "       [0.49705857],\n",
       "       [0.49705184],\n",
       "       [0.49705553],\n",
       "       [0.49704802],\n",
       "       [0.49706963],\n",
       "       [0.49704415],\n",
       "       [0.49706677],\n",
       "       [0.4970598 ],\n",
       "       [0.49706566],\n",
       "       [0.49707308],\n",
       "       [0.49705845],\n",
       "       [0.4970511 ],\n",
       "       [0.49705425],\n",
       "       [0.4970635 ],\n",
       "       [0.49707   ],\n",
       "       [0.4970599 ],\n",
       "       [0.49704918],\n",
       "       [0.49706158],\n",
       "       [0.49706092],\n",
       "       [0.49707195],\n",
       "       [0.49705583],\n",
       "       [0.49705645],\n",
       "       [0.49706742],\n",
       "       [0.49704826],\n",
       "       [0.49705803]], dtype=float32)"
      ]
     },
     "execution_count": 142,
     "metadata": {},
     "output_type": "execute_result"
    }
   ],
   "source": [
    "y_pred_ann_smote = model.predict(X_test)\n",
    "y_pred_ann_smote"
   ]
  },
  {
   "cell_type": "code",
   "execution_count": 143,
   "metadata": {},
   "outputs": [
    {
     "data": {
      "text/plain": [
       "array([[0],\n",
       "       [0],\n",
       "       [0],\n",
       "       [0],\n",
       "       [0],\n",
       "       [0],\n",
       "       [0],\n",
       "       [0],\n",
       "       [0],\n",
       "       [0],\n",
       "       [0],\n",
       "       [0],\n",
       "       [0],\n",
       "       [0],\n",
       "       [0],\n",
       "       [0],\n",
       "       [0],\n",
       "       [0],\n",
       "       [0],\n",
       "       [0],\n",
       "       [0],\n",
       "       [0],\n",
       "       [0],\n",
       "       [0],\n",
       "       [0],\n",
       "       [0],\n",
       "       [0],\n",
       "       [0],\n",
       "       [0],\n",
       "       [0],\n",
       "       [0],\n",
       "       [0],\n",
       "       [0],\n",
       "       [0],\n",
       "       [0],\n",
       "       [0],\n",
       "       [0],\n",
       "       [0],\n",
       "       [0],\n",
       "       [0],\n",
       "       [0],\n",
       "       [0],\n",
       "       [0],\n",
       "       [0],\n",
       "       [0],\n",
       "       [0],\n",
       "       [0],\n",
       "       [0],\n",
       "       [0],\n",
       "       [0],\n",
       "       [0],\n",
       "       [0],\n",
       "       [0],\n",
       "       [0],\n",
       "       [0],\n",
       "       [0],\n",
       "       [0],\n",
       "       [0],\n",
       "       [0],\n",
       "       [0]])"
      ]
     },
     "execution_count": 143,
     "metadata": {},
     "output_type": "execute_result"
    }
   ],
   "source": [
    "y_pred_smote = np.where(y_pred_ann_smote > 0.50, 1, 0)\n",
    "y_pred_smote"
   ]
  },
  {
   "cell_type": "code",
   "execution_count": 144,
   "metadata": {},
   "outputs": [
    {
     "name": "stdout",
     "output_type": "stream",
     "text": [
      "Accuracy Score: 0.6167\n",
      "Random Forest Classifier f1-score      : 0.0000\n",
      "Random Forest Classifier precision     : 0.0000\n",
      "Random Forest Classifier recall        : 0.0000\n",
      "Random Forest Classifier roc auc score : 0.5000\n"
     ]
    }
   ],
   "source": [
    "print('Accuracy Score: {:.4f}'.format(accuracy_score(y_test, y_pred_smote)))\n",
    "print('ANN f1-score      : {:.4f}'.format(f1_score( y_test , y_pred_smote)))\n",
    "print('ANN precision     : {:.4f}'.format(precision_score(y_test, y_pred_smote)))\n",
    "print('ANN recall        : {:.4f}'.format(recall_score(y_test, y_pred_smote)))\n",
    "print(\"ANN roc auc score : {:.4f}\".format(roc_auc_score(y_test,y_pred_smote)))"
   ]
  },
  {
   "cell_type": "code",
   "execution_count": 145,
   "metadata": {},
   "outputs": [
    {
     "data": {
      "image/png": "[encoded data removed]",
      "text/plain": [
       "<Figure size 400x400 with 1 Axes>"
      ]
     },
     "metadata": {},
     "output_type": "display_data"
    }
   ],
   "source": [
    "cm = confusion_matrix(y_test, y_pred_smote)\n",
    "\n",
    "fig, ax = plot_confusion_matrix(conf_mat=cm, figsize=(4,4))\n",
    "plt.xlabel('Predictions', fontsize = 18)\n",
    "plt.ylabel('Actuals', fontsize = 18)\n",
    "plt.title('confusion matrix', fontsize = 18)\n",
    "plt.show()"
   ]
  }
 ],
 "metadata": {
  "kernelspec": {
   "display_name": "Python 3",
   "language": "python",
   "name": "python3"
  },
  "language_info": {
   "codemirror_mode": {
    "name": "ipython",
    "version": 3
   },
   "file_extension": ".py",
   "mimetype": "text/x-python",
   "name": "python",
   "nbconvert_exporter": "python",
   "pygments_lexer": "ipython3",
   "version": "3.9.6"
  }
 },
 "nbformat": 4,
 "nbformat_minor": 2
}
